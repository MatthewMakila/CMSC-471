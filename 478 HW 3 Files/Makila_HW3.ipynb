{
 "cells": [
  {
   "cell_type": "markdown",
   "id": "40c4ddf0",
   "metadata": {},
   "source": [
    "# Matthew Makila HW3"
   ]
  },
  {
   "cell_type": "code",
   "execution_count": 10,
   "id": "0164d36a",
   "metadata": {},
   "outputs": [],
   "source": [
    "# HW 3\n",
    "import math\n",
    "import pandas as pd\n",
    "import copy\n",
    "import time\n",
    "import numpy as nump\n",
    "import matplotlib.pyplot as plt"
   ]
  },
  {
   "cell_type": "markdown",
   "id": "41f86167",
   "metadata": {},
   "source": [
    "### File Import Function (to gather mileage data)"
   ]
  },
  {
   "cell_type": "code",
   "execution_count": 11,
   "id": "6808356b",
   "metadata": {},
   "outputs": [],
   "source": [
    "def file_import(f_name):    # for mileage data\n",
    "    # specify features and the response var for file extraction and storage as a table\n",
    "    feat_names = ['mpg', 'cyl', 'disp', 'hp', 'drat', 'wt', 'qsec', 'vs', 'am', 'gear', 'carb']\n",
    "    f_feat_names = ['x0', 'cyl', 'disp', 'hp', 'drat', 'wt', 'qsec', 'vs', 'am', 'gear', 'carb']\n",
    "    df = pd.read_csv(f_name, usecols=feat_names)\n",
    "    resp_vect = df['mpg'].values.tolist()\n",
    "\n",
    "    # scale the features\n",
    "    scale_df = ((df - df.mean()) / df.std())\n",
    "\n",
    "    # add vector for x0 of 1's; remove the response var\n",
    "    x_0 = []\n",
    "    for i in range(len(resp_vect)): x_0.append(1)\n",
    "    scale_df = scale_df.drop('mpg', axis='columns')\n",
    "    scale_df.insert(0, \"x0\", x_0, True)\n",
    "\n",
    "    # create feature matrix to store all scaled features\n",
    "\n",
    "    feat_matrix = []\n",
    "    for feat in f_feat_names:\n",
    "        feat_matrix.append(scale_df[feat].values.tolist())\n",
    "    return feat_matrix, resp_vect\n"
   ]
  },
  {
   "cell_type": "markdown",
   "id": "63fc15da",
   "metadata": {},
   "source": [
    "### Functions for Model Training"
   ]
  },
  {
   "cell_type": "code",
   "execution_count": 12,
   "id": "ee4947cf",
   "metadata": {},
   "outputs": [],
   "source": [
    "def gradient_descent(X, y, alpha, model, lamdba):\n",
    "    # create vector to hold the theta values (past and present), initialize our theta vectors to 0\n",
    "    start = time.time()\n",
    "    runtime = 0\n",
    "    iteration_list = []\n",
    "    iterations = 0\n",
    "    threshold = 0.00001\n",
    "    m = len(y)  # number of observations\n",
    "    thetas = []\n",
    "    old_thetas = []\n",
    "    diff_vect = []\n",
    "    costs = []\n",
    "    if model == 'linear':\n",
    "        for i in range(len(X)):\n",
    "            thetas.append(0)\n",
    "            old_thetas.append(0)\n",
    "            diff_vect.append(0)\n",
    "    else:\n",
    "        thetas = nump.zeros(len(X[0]))\n",
    "        old_thetas = nump.zeros(len(X[0]))\n",
    "        diff_vect = nump.zeros(len(X[0]))\n",
    "    not_converged = True\n",
    "    true_count = 0\n",
    "    while not_converged:\n",
    "        # loop over GDA equation algorithm\n",
    "        for j in range(len(thetas)):    # loop to update each feature\n",
    "            g_sum = 0\n",
    "            for i in range(m):  # loop to compute each summation over all observations\n",
    "                h_theta_x = 0\n",
    "                if model == 'linear':\n",
    "                    for n in range(len(thetas)):\n",
    "                        h_theta_x += (old_thetas[n] * X[n][i])\n",
    "                elif model == 'cancer':\n",
    "                    p = -1 * (nump.dot(old_thetas, nump.array(X[i])))\n",
    "                    h_theta_x = (1 / (1 + math.exp(p)))\n",
    "                else:\n",
    "                    p = -1 * (nump.dot(old_thetas, X[i]))\n",
    "                    h_theta_x = (1 / (1 + math.exp(p)))\n",
    "                if model == 'linear':\n",
    "                    g_sum += (X[j][i] * (h_theta_x - y[i]))\n",
    "                else:\n",
    "                    g_sum += (X[i][j] * (h_theta_x - y[i]))\n",
    "            # add back to new theta here\n",
    "            if lamdba == 0:\n",
    "                thetas[j] = old_thetas[j] - (alpha / m) * g_sum\n",
    "            else:   # we are doing regularization\n",
    "                if j == 0:  # treat j = 0 without reg\n",
    "                    thetas[j] = old_thetas[j] - (alpha / m) * g_sum\n",
    "                else:\n",
    "                    thetas[j] = (old_thetas[j] * (1 - (alpha * lamdba) / m)) - (alpha / m) * g_sum\n",
    "\n",
    "        # check differences of new thetas will old thetas & check threshold\n",
    "        for i in range(len(thetas)):\n",
    "            diff_vect[i] = abs(thetas[i] - old_thetas[i])\n",
    "            if diff_vect[i] < threshold:\n",
    "                true_count += 1\n",
    "\n",
    "        # if all differences are less than threshold, we converged\n",
    "        if true_count == len(diff_vect):\n",
    "            not_converged = False\n",
    "            end = time.time()\n",
    "            runtime = end-start\n",
    "        else:\n",
    "            # update old thetas to continue GDA next iteration\n",
    "            true_count = 0\n",
    "            for i in range(len(thetas)):\n",
    "                old_thetas[i] = thetas[i]\n",
    "    return thetas, runtime, costs, iteration_list\n",
    "\n",
    "\n",
    "def normal_equations(feat, resp, lamb):\n",
    "    if lamb == 0:\n",
    "        X1 = nump.array(feat).T\n",
    "        y1 = nump.array(resp)\n",
    "        temp = nump.dot(X1.T, X1)\n",
    "        temp = nump.linalg.inv(temp)\n",
    "        temp = nump.dot(temp, X1.T)\n",
    "        temp = nump.dot(temp, y1)\n",
    "        Theta = temp\n",
    "    else:   # regularize\n",
    "        X1 = nump.array(feat).T\n",
    "        y1 = nump.array(resp)\n",
    "        temp = nump.dot(X1.T, X1)\n",
    "        # add new part here:    + (lamb * I)\n",
    "        n = len(feat)\n",
    "        row = nump.zeros(n)\n",
    "        mat_I = nump.identity(n)\n",
    "        m_df = pd.DataFrame(mat_I)\n",
    "        m_df.loc[0] = row\n",
    "        mat_I = m_df.to_numpy()\n",
    "        mat_I = nump.dot(lamb, mat_I)\n",
    "        temp = temp + mat_I\n",
    "        temp = nump.linalg.inv(temp)\n",
    "        temp = nump.dot(temp, X1.T)\n",
    "        temp = nump.dot(temp, y1)\n",
    "        Theta = temp\n",
    "    return Theta"
   ]
  },
  {
   "cell_type": "markdown",
   "id": "5866127d",
   "metadata": {},
   "source": [
    "### Functions to Compute Training R-Squared Values and LOOCV R-Squared Values"
   ]
  },
  {
   "cell_type": "code",
   "execution_count": 13,
   "id": "fc625d77",
   "metadata": {},
   "outputs": [],
   "source": [
    "def mpg_estimate(X, y, Theta):\n",
    "    # create a vector of estimations (y hat)\n",
    "    y_hat = []\n",
    "    theta = nump.array(Theta)\n",
    "    for i in range(len(y)):\n",
    "        sample = []\n",
    "        for j in range(len(X)):\n",
    "            sample.append(X[j][i])\n",
    "        # calculate a y hat with numpy: multiply theta transpose by that sample's features\n",
    "        new_X = nump.array(sample)\n",
    "        y_hat.append(nump.dot(theta, new_X))\n",
    "    # calculate the error between observed and predicted\n",
    "    calc_errors(y, y_hat, X)\n",
    "\n",
    "\n",
    "def calc_errors(y, y_hat, X):\n",
    "    error = nump.array(y) - nump.array(y_hat).T\n",
    "    # calculate R^2 and adjusted R^2\n",
    "    SSR = pow(error, 2)\n",
    "    SST = pow((nump.array(y) - nump.array(nump.mean(y)).T), 2)\n",
    "    R_Sq = 1 - (sum(SSR) / sum(SST))\n",
    "    A_R_Sq = 1 - (1 - R_Sq) * ((len(y) - 1) / (len(y) - len(X)))\n",
    "    print(\"R-Squared: \", R_Sq)\n",
    "    print(\"Adjusted R-Squared: \", A_R_Sq)\n",
    "\n",
    "\n",
    "def LOOCV(X, y, alpha, lamb, alg):\n",
    "    m = len(y)\n",
    "    n = len(X)\n",
    "    y_hat = []\n",
    "    for i in range(m):\n",
    "        # remember original intact matrices for X and y while we remove 1 at a time\n",
    "        n_X = copy.deepcopy(X)\n",
    "        n_y = copy.deepcopy(y)\n",
    "        # begin removals\n",
    "        feat_to_predict = []\n",
    "        n_y.pop(i)\n",
    "        for j in range(n):  # save & remove all features of a specific example to predict later\n",
    "            feat_to_predict.append(n_X[j][i])\n",
    "            n_X[j].pop(i)\n",
    "        if alg == 'gda':\n",
    "            theta, run, cost, it = gradient_descent(n_X, n_y, alpha, 'linear', lamb)   # with 1 left out\n",
    "            y_hat.append(nump.dot(theta, feat_to_predict))\n",
    "        elif alg == 'norm':\n",
    "            theta = normal_equations(n_X, n_y, lamb)\n",
    "            y_hat.append(nump.dot(theta, feat_to_predict))\n",
    "    calc_errors(y, y_hat, X)"
   ]
  },
  {
   "cell_type": "markdown",
   "id": "f6ee3091",
   "metadata": {},
   "source": [
    "### Function to Draw the Ridge Trace Plot"
   ]
  },
  {
   "cell_type": "code",
   "execution_count": 20,
   "id": "9f2841ba",
   "metadata": {},
   "outputs": [],
   "source": [
    "def ridge_trace_plot(X, y, alpha, alg):\n",
    "    my_thetas = []\n",
    "    lambs = nump.linspace(0, 10, num=101)   # our set of 101 different lambdas\n",
    "    for i in range(len(lambs)):     # yes, we run it 101 times for each lambda\n",
    "        if alg == 'gda':\n",
    "            theta, run, cost, it = gradient_descent(X, y, alpha, 'linear', lambs[i])\n",
    "            my_thetas.append(theta)\n",
    "        elif alg == 'norm':\n",
    "            theta = normal_equations(X, y, lambs[i])\n",
    "            my_thetas.append(theta)\n",
    "    my_thetas = pd.DataFrame(my_thetas)\n",
    "    my_thetas = my_thetas.transpose().values.tolist()\n",
    "    # no need to plot theta 0\n",
    "    for i in range(len(my_thetas) - 1):\n",
    "        plt.plot(lambs, my_thetas[i + 1], label=\"theta {}\".format(i + 1))\n",
    "\n",
    "    plt.legend()\n",
    "    plt.title(\"Ridge Trace\")\n",
    "    plt.ylabel(\"Standardized Coefficient\")\n",
    "    plt.xlabel(\"Ridge Parameter\")\n",
    "    plt.show()"
   ]
  },
  {
   "cell_type": "markdown",
   "id": "a3447cc7",
   "metadata": {},
   "source": [
    "### Part 1 (A)"
   ]
  },
  {
   "cell_type": "code",
   "execution_count": 17,
   "id": "55d4cc98",
   "metadata": {},
   "outputs": [
    {
     "name": "stdout",
     "output_type": "stream",
     "text": [
      "\n",
      "-----------------1A---------------\n",
      "\n",
      "Training:\n",
      "R-Squared:  0.8690157579509393\n",
      "Adjusted R-Squared:  0.8066423093561486\n",
      "LOOCV:\n",
      "R-Squared:  0.6538538719944074\n",
      "Adjusted R-Squared:  0.4890223824679346\n",
      "    Model Parameters (No Regularization)\n",
      "0                              20.090625\n",
      "1                              -0.198497\n",
      "2                               1.650594\n",
      "3                              -1.472098\n",
      "4                               0.421023\n",
      "5                              -3.633588\n",
      "6                               1.466665\n",
      "7                               0.160140\n",
      "8                               1.257569\n",
      "9                               0.483800\n",
      "10                             -0.323234\n"
     ]
    }
   ],
   "source": [
    "X_, y_ = file_import('mileage.csv')\n",
    "a = 0.2\n",
    "\"\"\"1\"\"\"\n",
    "\n",
    "# 1A: calculate regular MLR and then LOOCV MLR\n",
    "print(\"\\n-----------------1A---------------\\n\")\n",
    "Thetas, runtime, costs, iterations = gradient_descent(X_, y_, a, 'linear', 0)\n",
    "print(\"Training:\")\n",
    "mpg_estimate(X_, y_, Thetas)\n",
    "print(\"LOOCV:\")\n",
    "LOOCV(X_, y_, a, 0, 'gda')\n",
    "\n",
    "df = pd.DataFrame()\n",
    "df.insert(0, \"Model Parameters (No Regularization)\", Thetas, True)\n",
    "print(df)"
   ]
  },
  {
   "cell_type": "markdown",
   "id": "8dcc2a88",
   "metadata": {},
   "source": [
    "##### The results above show the model fit for the training and Leave One Out Cross Validation (LOOCV). We notice here the training fit is quite high, while the LOOCV fit is relatively low in comparison. This tells us our model is overfitting and not performing well on testing data."
   ]
  },
  {
   "cell_type": "markdown",
   "id": "b2d8af35",
   "metadata": {},
   "source": [
    "### Part 1 (B)"
   ]
  },
  {
   "cell_type": "code",
   "execution_count": 18,
   "id": "683bb1c3",
   "metadata": {},
   "outputs": [
    {
     "name": "stdout",
     "output_type": "stream",
     "text": [
      "\n",
      "-----------------1B---------------\n",
      "\n",
      "Training:\n",
      "R-Squared:  0.8561902544285618\n",
      "Adjusted R-Squared:  0.7877094232040673\n",
      "LOOCV:\n",
      "R-Squared:  0.7878648194045034\n",
      "Adjusted R-Squared:  0.6868480667399812\n",
      "    Model Parameters (Regularization)\n",
      "0                           20.090625\n",
      "1                           -0.591617\n",
      "2                           -0.525895\n",
      "3                           -0.840148\n",
      "4                            0.546280\n",
      "5                           -1.472724\n",
      "6                            0.362866\n",
      "7                            0.316174\n",
      "8                            0.937010\n",
      "9                            0.424887\n",
      "10                          -1.028183\n"
     ]
    }
   ],
   "source": [
    "# 1B: regular MLR and LOOCV MLRs with Regularization\n",
    "print(\"\\n-----------------1B---------------\\n\")\n",
    "reg_param = 6.5\n",
    "Thetas2, runtime2, costs2, iterations2 = gradient_descent(X_, y_, a, 'linear', reg_param)\n",
    "print(\"Training:\")\n",
    "mpg_estimate(X_, y_, Thetas2)\n",
    "print(\"LOOCV:\")\n",
    "LOOCV(X_, y_, a, reg_param, 'gda')\n",
    "df2 = pd.DataFrame()\n",
    "df2.insert(0, \"Model Parameters (Regularization)\", Thetas2, True)\n",
    "print(df2)"
   ]
  },
  {
   "cell_type": "markdown",
   "id": "f3052259",
   "metadata": {},
   "source": [
    "#### The results depicted above make use of the regularization parameter (lambda). Here, with a chosen lambda of 6.5, we see much improvement in the LOOCV fit of the model though there's a decrease in the training fit. This leads to better testing performance."
   ]
  },
  {
   "cell_type": "markdown",
   "id": "0ce5c2ca",
   "metadata": {},
   "source": [
    "### Part 1 (C)"
   ]
  },
  {
   "cell_type": "markdown",
   "id": "6c6781cf",
   "metadata": {},
   "source": [
    "### We can see there is a significant improvement in the R-squared values from the initial models to the ones trained using regularization. The models that used regularization have a much better LOOCV fit, with the training fit decreasing, as expected. We can also notice the shrinkage in the model parameters, as expected by the regularization's change to the cost function, since we were multiplying theta by a number smaller than 1 while training."
   ]
  },
  {
   "cell_type": "markdown",
   "id": "d94364c3",
   "metadata": {},
   "source": [
    "### Part 1 (D)"
   ]
  },
  {
   "cell_type": "code",
   "execution_count": 21,
   "id": "9e7dedad",
   "metadata": {},
   "outputs": [
    {
     "data": {
      "image/png": "[encoded data removed]",
      "text/plain": [
       "<Figure size 432x288 with 1 Axes>"
      ]
     },
     "metadata": {
      "needs_background": "light"
     },
     "output_type": "display_data"
    }
   ],
   "source": [
    "# 1D: Ridge Trace Plot\n",
    "ridge_trace_plot(X_, y_, a, 'gda')"
   ]
  },
  {
   "cell_type": "markdown",
   "id": "bcb717bc",
   "metadata": {},
   "source": [
    "##### We can see in the above plot that the model parameters show signicifant change up until lambda equals 7, and then the model parameters are relatively consistent."
   ]
  },
  {
   "cell_type": "markdown",
   "id": "1ef86058",
   "metadata": {},
   "source": [
    "### Part 1 (E)"
   ]
  },
  {
   "cell_type": "markdown",
   "id": "03cd6d6e",
   "metadata": {},
   "source": [
    "### If I were to make a choice for the best regularization parameter, I would pick a number near lambda = 8. I would make this choice because it would give us a point where the lambda values have been consistent and will not change much through continually increasing the regularization parameter. "
   ]
  },
  {
   "cell_type": "markdown",
   "id": "cb30a92a",
   "metadata": {},
   "source": [
    "### Part 2 (A)"
   ]
  },
  {
   "cell_type": "code",
   "execution_count": 23,
   "id": "401cf461",
   "metadata": {},
   "outputs": [
    {
     "name": "stdout",
     "output_type": "stream",
     "text": [
      "\n",
      "-----------------2A---------------\n",
      "\n",
      "Training:\n",
      "R-Squared:  0.8690157644777647\n",
      "Adjusted R-Squared:  0.806642318990986\n",
      "LOOCV:\n",
      "R-Squared:  0.653824581644487\n",
      "Adjusted R-Squared:  0.4889791443323379\n",
      "    Norm. Equations Model Parameters (No Regularization)\n",
      "0                                           20.090625   \n",
      "1                                           -0.199024   \n",
      "2                                            1.652752   \n",
      "3                                           -1.472876   \n",
      "4                                            0.420851   \n",
      "5                                           -3.635267   \n",
      "6                                            1.467153   \n",
      "7                                            0.160158   \n",
      "8                                            1.257570   \n",
      "9                                            0.483566   \n",
      "10                                          -0.322102   \n"
     ]
    }
   ],
   "source": [
    "# 2A\n",
    "print(\"\\n-----------------2A---------------\\n\")\n",
    "norm_theta = normal_equations(X_, y_, 0)\n",
    "print(\"Training:\")\n",
    "mpg_estimate(X_, y_, norm_theta)\n",
    "print(\"LOOCV:\")\n",
    "LOOCV(X_, y_, a, 0, 'norm')\n",
    "df3 = pd.DataFrame()\n",
    "df3.insert(0, \"Norm. Equations Model Parameters (No Regularization)\", norm_theta, True)\n",
    "print(df3)"
   ]
  },
  {
   "cell_type": "markdown",
   "id": "4b2f9f38",
   "metadata": {},
   "source": [
    "##### The results above show the model fit for the training and Leave One Out Cross Validation (LOOCV). We notice here the training fit is quite high, while the LOOCV fit is relatively low in comparison. This tells us our model is overfitting and not performing well on testing data."
   ]
  },
  {
   "cell_type": "markdown",
   "id": "0e3c6087",
   "metadata": {},
   "source": [
    "### Part 2 (B)"
   ]
  },
  {
   "cell_type": "code",
   "execution_count": 25,
   "id": "9098508b",
   "metadata": {},
   "outputs": [
    {
     "name": "stdout",
     "output_type": "stream",
     "text": [
      "\n",
      "-----------------2B---------------\n",
      "\n",
      "Training:\n",
      "R-Squared:  0.8561919996838382\n",
      "Adjusted R-Squared:  0.787711999533285\n",
      "LOOCV:\n",
      "R-Squared:  0.7878593043821911\n",
      "Adjusted R-Squared:  0.6868399255165678\n",
      "    Norm. Equations Model Parameters (Regularization)\n",
      "0                                           20.090625\n",
      "1                                           -0.591588\n",
      "2                                           -0.525683\n",
      "3                                           -0.840225\n",
      "4                                            0.546272\n",
      "5                                           -1.472916\n",
      "6                                            0.362964\n",
      "7                                            0.316175\n",
      "8                                            0.937024\n",
      "9                                            0.424884\n",
      "10                                          -1.028075\n"
     ]
    }
   ],
   "source": [
    "# 2B\n",
    "reg_param2 = 6.5\n",
    "print(\"\\n-----------------2B---------------\\n\")\n",
    "norm_theta2 = normal_equations(X_, y_, reg_param2)\n",
    "print(\"Training:\")\n",
    "mpg_estimate(X_, y_, norm_theta2)\n",
    "print(\"LOOCV:\")\n",
    "LOOCV(X_, y_, a, reg_param2, 'norm')\n",
    "df4 = pd.DataFrame()\n",
    "df4.insert(0, \"Norm. Equations Model Parameters (Regularization)\", norm_theta2, True)\n",
    "print(df4)"
   ]
  },
  {
   "cell_type": "markdown",
   "id": "61a16c6c",
   "metadata": {},
   "source": [
    "#### The results depicted above make use of the regularization parameter (lambda). Here, with a chosen lambda of 6.5, we see much improvement in the LOOCV fit of the model though there's a decrease in the training fit. This leads to better testing performance."
   ]
  },
  {
   "cell_type": "markdown",
   "id": "3b684187",
   "metadata": {},
   "source": [
    "### Part 2 (C)"
   ]
  },
  {
   "cell_type": "markdown",
   "id": "7f461631",
   "metadata": {},
   "source": [
    "### Like with the GDA method, we can see there is a significant improvement in the R-squared values from the initial models to the ones trained using regularization. The models that used regularization have a much better LOOCV fit, with the training fit decreasing, as expected. We can also notice the shrinkage in the model parameters, as expected by the regularization's change to the cost function, since we were multiplying theta by a number smaller than 1 while training."
   ]
  },
  {
   "cell_type": "markdown",
   "id": "42bcb584",
   "metadata": {},
   "source": [
    "### Part 2 (D)"
   ]
  },
  {
   "cell_type": "code",
   "execution_count": 26,
   "id": "565e57a4",
   "metadata": {},
   "outputs": [
    {
     "data": {
      "image/png": "[encoded data removed]",
      "text/plain": [
       "<Figure size 432x288 with 1 Axes>"
      ]
     },
     "metadata": {
      "needs_background": "light"
     },
     "output_type": "display_data"
    }
   ],
   "source": [
    "# 2D\n",
    "ridge_trace_plot(X_, y_, a, 'norm')"
   ]
  },
  {
   "cell_type": "markdown",
   "id": "7df8a01c",
   "metadata": {},
   "source": [
    "##### We can see in the above plot that the model parameters show signicifant change up until lambda equals 7, and then the model parameters are relatively consistent."
   ]
  },
  {
   "cell_type": "markdown",
   "id": "025a479a",
   "metadata": {},
   "source": [
    "### Part 2 (E)"
   ]
  },
  {
   "cell_type": "markdown",
   "id": "3e18b5b8",
   "metadata": {},
   "source": [
    "### As with GDA, if I were to make a choice for the best regularization parameter, I would pick a number near lambda = 8. I would make this choice because it would give us a point where the lambda values have been consistent and will not change much through continually increasing the regularization parameter. "
   ]
  },
  {
   "cell_type": "code",
   "execution_count": null,
   "id": "15c822c3",
   "metadata": {},
   "outputs": [],
   "source": []
  }
 ],
 "metadata": {
  "kernelspec": {
   "display_name": "Python 3 (ipykernel)",
   "language": "python",
   "name": "python3"
  },
  "language_info": {
   "codemirror_mode": {
    "name": "ipython",
    "version": 3
   },
   "file_extension": ".py",
   "mimetype": "text/x-python",
   "name": "python",
   "nbconvert_exporter": "python",
   "pygments_lexer": "ipython3",
   "version": "3.9.12"
  }
 },
 "nbformat": 4,
 "nbformat_minor": 5
}
