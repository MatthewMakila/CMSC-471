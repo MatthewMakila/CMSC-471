{
 "cells": [
  {
   "cell_type": "markdown",
   "id": "b56b4284",
   "metadata": {},
   "source": [
    "# Matthew Makila: HW 2"
   ]
  },
  {
   "cell_type": "code",
   "execution_count": 36,
   "id": "7c4d99bb",
   "metadata": {},
   "outputs": [],
   "source": [
    "import math\n",
    "import pandas as pd\n",
    "import copy\n",
    "import time\n",
    "import numpy as nump\n",
    "import matplotlib.pyplot as plt"
   ]
  },
  {
   "cell_type": "markdown",
   "id": "d255addb",
   "metadata": {},
   "source": [
    "### File import functions for the 3 datasets"
   ]
  },
  {
   "cell_type": "code",
   "execution_count": 37,
   "id": "8682d1ea",
   "metadata": {},
   "outputs": [],
   "source": [
    "def file_import(f_name):    # for mileage data\n",
    "    # specify features and the response var for file extraction and storage as a table\n",
    "    feat_names = ['mpg', 'cyl', 'disp', 'hp', 'drat', 'wt', 'qsec', 'vs', 'am', 'gear', 'carb']\n",
    "    f_feat_names = ['x0', 'cyl', 'disp', 'hp', 'drat', 'wt', 'qsec', 'vs', 'am', 'gear', 'carb']\n",
    "    df = pd.read_csv(f_name, usecols=feat_names)\n",
    "    resp_vect = df['mpg'].values.tolist()\n",
    "\n",
    "    # scale the features\n",
    "    scale_df = ((df - df.mean()) / df.std())\n",
    "\n",
    "    # add vector for x0 of 1's; remove the response var\n",
    "    x_0 = []\n",
    "    for i in range(len(resp_vect)): x_0.append(1)\n",
    "    scale_df = scale_df.drop('mpg', axis='columns')\n",
    "    scale_df.insert(0, \"x0\", x_0, True)\n",
    "\n",
    "    # create feature matrix to store all scaled features\n",
    "    feat_matrix = []\n",
    "    for feat in f_feat_names:\n",
    "        feat_matrix.append(scale_df[feat].values.tolist())\n",
    "    return feat_matrix, resp_vect"
   ]
  },
  {
   "cell_type": "code",
   "execution_count": 38,
   "id": "374647a3",
   "metadata": {},
   "outputs": [],
   "source": [
    "def file_import2(f_name):   # for cancer data\n",
    "    df = pd.read_csv(f_name)\n",
    "    resp_vect = df['LungCancer'].values.tolist()\n",
    "    # add vector for x0 of 1's; remove the response var\n",
    "    x_0 = []\n",
    "    for i in range(len(resp_vect)): x_0.append(1)\n",
    "    df = df.drop('LungCancer', axis='columns')\n",
    "    df.insert(0, \"x0\", x_0, True)\n",
    "    feat_names = ['x0', 'Smoking']\n",
    "    feat_mat = df.values.tolist()\n",
    "\n",
    "    return feat_mat, resp_vect"
   ]
  },
  {
   "cell_type": "code",
   "execution_count": 39,
   "id": "1278fdd7",
   "metadata": {},
   "outputs": [],
   "source": [
    "def file_import3(filename):\n",
    "    df = pd.read_csv(filename)\n",
    "    X = df.iloc[:, 1:].copy()\n",
    "    # X = (X - X.mean()) / X.std()\n",
    "    X['x0'] = 1\n",
    "    cols = X.columns.tolist()\n",
    "    cols = cols[-1:] + cols[:-1]\n",
    "    X = X[cols]\n",
    "\n",
    "    X = nump.matrix(X)\n",
    "    y = nump.transpose(nump.matrix(df['Species']))\n",
    "\n",
    "    return X, y"
   ]
  },
  {
   "cell_type": "markdown",
   "id": "7a20a770",
   "metadata": {},
   "source": [
    "### Gradient Descent Function for Model Training"
   ]
  },
  {
   "cell_type": "code",
   "execution_count": 40,
   "id": "7566d3d3",
   "metadata": {},
   "outputs": [],
   "source": [
    "def gradient_descent(X, y, alpha, model):\n",
    "    # create vector to hold the theta values (past and present), initialize our theta vectors to 0\n",
    "    start = time.time()\n",
    "    runtime = 0\n",
    "    iteration_list = []\n",
    "    iterations = 0\n",
    "    threshold = 0.00001\n",
    "    m = len(y)  # number of observations\n",
    "    thetas = []\n",
    "    old_thetas = []\n",
    "    diff_vect = []\n",
    "    costs = []\n",
    "    if model == 'linear':\n",
    "        for i in range(len(X)):\n",
    "            thetas.append(0)\n",
    "            old_thetas.append(0)\n",
    "            diff_vect.append(0)\n",
    "    else:\n",
    "        thetas = nump.zeros(len(X[0]))\n",
    "        old_thetas = nump.zeros(len(X[0]))\n",
    "        diff_vect = nump.zeros(len(X[0]))\n",
    "    not_converged = True\n",
    "    true_count = 0\n",
    "    while not_converged:\n",
    "        # loop over GDA equation algorithm\n",
    "        for j in range(len(thetas)):    # loop to update each feature\n",
    "            g_sum = 0\n",
    "            for i in range(m):  # loop to compute each summation over all observations\n",
    "                h_theta_x = 0\n",
    "                if model == 'linear':\n",
    "                    for n in range(len(thetas)):\n",
    "                        h_theta_x += (old_thetas[n] * X[n][i])\n",
    "                elif model == 'cancer':\n",
    "                    p = -1 * (nump.dot(old_thetas, nump.array(X[i])))\n",
    "                    h_theta_x = (1 / (1 + math.exp(p)))\n",
    "                else:\n",
    "                    p = -1 * (nump.dot(old_thetas, X[i]))\n",
    "                    h_theta_x = (1 / (1 + math.exp(p)))\n",
    "                if model == 'linear':\n",
    "                    g_sum += (X[j][i] * (h_theta_x - y[i]))\n",
    "                else:\n",
    "                    g_sum += (X[i][j] * (h_theta_x - y[i]))\n",
    "            # add back to new theta here\n",
    "            thetas[j] = old_thetas[j] - (alpha / m) * g_sum\n",
    "        # check differences of new thetas will old thetas & check threshold\n",
    "        for i in range(len(thetas)):\n",
    "            diff_vect[i] = abs(thetas[i] - old_thetas[i])\n",
    "            if diff_vect[i] < threshold:\n",
    "                true_count += 1\n",
    "\n",
    "        # if all differences are less than threshold, we converged\n",
    "        if true_count == len(diff_vect):\n",
    "            not_converged = False\n",
    "            end = time.time()\n",
    "            runtime = end-start\n",
    "        else:\n",
    "            # update old thetas to continue GDA next iteration\n",
    "            true_count = 0\n",
    "            for i in range(len(thetas)):\n",
    "                old_thetas[i] = thetas[i]\n",
    "    return thetas, runtime, costs, iteration_list"
   ]
  },
  {
   "cell_type": "markdown",
   "id": "bb7c93d0",
   "metadata": {},
   "source": [
    "### Helper functions to solve Question 1"
   ]
  },
  {
   "cell_type": "code",
   "execution_count": 41,
   "id": "e02c3454",
   "metadata": {},
   "outputs": [],
   "source": [
    "def mpg_estimate(X, y, Theta):\n",
    "    # create a vector of estimations (y hat)\n",
    "    y_hat = []\n",
    "    theta = nump.array(Theta)\n",
    "    for i in range(len(y)):\n",
    "        sample = []\n",
    "        for j in range(len(X)):\n",
    "            sample.append(X[j][i])\n",
    "        # calculate a y hat with numpy: multiply theta transpose by that sample's features\n",
    "        new_X = nump.array(sample)\n",
    "        y_hat.append(nump.dot(theta, new_X))\n",
    "    # calculate the error between observed and predicted\n",
    "    calc_errors(y, y_hat, X)\n",
    "\n",
    "\n",
    "def calc_errors(y, y_hat, X):\n",
    "    error = nump.array(y) - nump.array(y_hat).T\n",
    "    data = {'Observed mileage': y, 'Estimated mileage': y_hat, 'Error': error}\n",
    "    df = pd.DataFrame(data=data)\n",
    "    print(df)\n",
    "    # calculate R^2 and adjusted R^2\n",
    "    SSR = pow(error, 2)\n",
    "    SST = pow((nump.array(y) - nump.array(nump.mean(y)).T), 2)\n",
    "    R_Sq = 1 - (sum(SSR) / sum(SST))\n",
    "    A_R_Sq = 1 - (1 - R_Sq) * ((len(y) - 1) / (len(y) - len(X)))\n",
    "    print(\"R-Squared: \", R_Sq)\n",
    "    print(\"Adjusted R-Squared: \", A_R_Sq)\n",
    "\n",
    "\n",
    "def LOOCV(X, y, alpha, model):\n",
    "    m = len(y)\n",
    "    n = len(X)\n",
    "    y_hat = []\n",
    "    for i in range(m):\n",
    "        # remember original intact matrices for X and y while we remove 1 at a time\n",
    "        n_X = copy.deepcopy(X)\n",
    "        n_y = copy.deepcopy(y)\n",
    "        # begin removals\n",
    "        feat_to_predict = []\n",
    "        n_y.pop(i)\n",
    "        for j in range(n):  # save & remove all features of a specific example to predict later\n",
    "            feat_to_predict.append(n_X[j][i])\n",
    "            n_X[j].pop(i)\n",
    "\n",
    "        theta, run, cost, it = gradient_descent(n_X, n_y, alpha, 'linear')   # with 1 left out\n",
    "        y_hat.append(nump.dot(theta, feat_to_predict))\n",
    "    calc_errors(y, y_hat, X)\n",
    "\n",
    "    \n",
    "def k_calc_errors(y, y_hat, X):\n",
    "    Rs = []\n",
    "    A_Rs = []\n",
    "    for i in range(len(X) - 1):\n",
    "        error = nump.array(y) - nump.array(y_hat[i]).T\n",
    "        # calculate R^2 and adjusted R^2\n",
    "        SSR = sum(pow(error, 2))\n",
    "        SST = sum(pow((nump.array(y) - nump.array(nump.mean(y)).T), 2))\n",
    "        R_Sq = 1 - (SSR / SST)\n",
    "        A_R_Sq = 1 - (1 - R_Sq) * ((len(y) - 1) / (len(y) - len(X)))\n",
    "        Rs.append(R_Sq)\n",
    "        A_Rs.append(A_R_Sq)\n",
    "    plot_rs(Rs, A_Rs)\n",
    "    \n",
    "    \n",
    "def k_feat_calc(X, y, alpha):\n",
    "    y_hat = []\n",
    "    n = len(X)\n",
    "    for i in range(n + 1):\n",
    "        theta, run, cost, it = gradient_descent(X[:i + 1], y, alpha, 'linear')  # with 1 left out\n",
    "        y_hat.append(nump.dot(theta, X[:i + 1]))\n",
    "    y_hat.pop(0)    # destroy first set\n",
    "    k_calc_errors(y, y_hat, X)\n",
    "    \n",
    "\n",
    "def plot_rs(R, A_R):\n",
    "    x = [1, 2, 3, 4, 5, 6, 7, 8, 9, 10]\n",
    "    plt.plot(x, R, label='R-Squared')\n",
    "    plt.plot(x, A_R, label='Adjusted R-Squared')\n",
    "    plt.legend()\n",
    "    plt.ylabel(\"R-Squared Values\")\n",
    "    plt.xlabel(\"Number of features\")\n",
    "    plt.show()"
   ]
  },
  {
   "cell_type": "markdown",
   "id": "3f2af21a",
   "metadata": {},
   "source": [
    "### 1. (A) (Predict car mileage using MLR, report errors, and report R-squared values)"
   ]
  },
  {
   "cell_type": "code",
   "execution_count": 42,
   "id": "453f3a92",
   "metadata": {},
   "outputs": [
    {
     "name": "stdout",
     "output_type": "stream",
     "text": [
      "    Observed mileage  Estimated mileage     Error\n",
      "0               21.0          22.598999 -1.598999\n",
      "1               21.0          22.111664 -1.111664\n",
      "2               22.8          26.251209 -3.451209\n",
      "3               21.4          21.236887  0.163113\n",
      "4               18.7          17.692871  1.007129\n",
      "5               18.1          20.383144 -2.283144\n",
      "6               14.3          14.385650 -0.085650\n",
      "7               24.4          22.495915  1.904085\n",
      "8               22.8          24.418683 -1.618683\n",
      "9               19.2          18.699417  0.500583\n",
      "10              17.8          19.191877 -1.391877\n",
      "11              16.4          14.173373  2.226627\n",
      "12              17.3          15.600147  1.699853\n",
      "13              15.2          15.742774 -0.542774\n",
      "14              10.4          12.033212 -1.633212\n",
      "15              10.4          10.936323 -0.536323\n",
      "16              14.7          10.494081  4.205919\n",
      "17              32.4          27.773308  4.626692\n",
      "18              30.4          29.895863  0.504137\n",
      "19              33.9          29.512193  4.387807\n",
      "20              21.5          23.643007 -2.143007\n",
      "21              15.5          16.942991 -1.442991\n",
      "22              15.2          17.732225 -2.532225\n",
      "23              13.3          13.306338 -0.006338\n",
      "24              19.2          16.691084  2.508916\n",
      "25              27.3          28.293566 -0.993566\n",
      "26              26.0          26.153332 -0.153332\n",
      "27              30.4          27.635962  2.764038\n",
      "28              15.8          18.870443 -3.070443\n",
      "29              19.7          19.693665  0.006335\n",
      "30              15.0          13.940834  1.059166\n",
      "31              21.4          24.368962 -2.968962\n",
      "R-Squared:  0.8690157579509393\n",
      "Adjusted R-Squared:  0.8066423093561486\n"
     ]
    }
   ],
   "source": [
    "X_, y_ = file_import('mileage.csv')\n",
    "a = 0.2\n",
    "\"\"\"1\"\"\"\n",
    "# 1A\n",
    "Thetas, runtime, costs, iterations = gradient_descent(X_, y_, a, 'linear')\n",
    "mpg_estimate(X_, y_, Thetas)"
   ]
  },
  {
   "cell_type": "markdown",
   "id": "f0006c1a",
   "metadata": {},
   "source": [
    "##### We can see in this portion that the R-squared and adjusted R-squared values are relatively high (both higher than 0.8) and that the errors between observations are not ever more/less than 5 mpg."
   ]
  },
  {
   "cell_type": "markdown",
   "id": "c6517ac4",
   "metadata": {},
   "source": [
    "### 1. (B) (Predict car mileage using LOOCV with MLR, report errors, and report R-squared values)"
   ]
  },
  {
   "cell_type": "code",
   "execution_count": 43,
   "id": "38710d3f",
   "metadata": {},
   "outputs": [
    {
     "name": "stdout",
     "output_type": "stream",
     "text": [
      "    Observed mileage  Estimated mileage     Error\n",
      "0               21.0          23.292471 -2.292471\n",
      "1               21.0          22.566202 -1.566202\n",
      "2               22.8          27.334015 -4.534015\n",
      "3               21.4          21.188796  0.211204\n",
      "4               18.7          17.441872  1.258128\n",
      "5               18.1          21.281126 -3.181126\n",
      "6               14.3          14.426968 -0.126968\n",
      "7               24.4          21.557089  2.842911\n",
      "8               22.8          29.079083 -6.279083\n",
      "9               19.2          18.322931  0.877069\n",
      "10              17.8          20.026541 -2.226541\n",
      "11              16.4          13.204039  3.195961\n",
      "12              17.3          15.195904  2.104096\n",
      "13              15.2          15.899143 -0.699143\n",
      "14              10.4          13.011010 -2.611010\n",
      "15              10.4          11.176202 -0.776202\n",
      "16              14.7           8.633541  6.066459\n",
      "17              32.4          26.764896  5.635104\n",
      "18              30.4          29.366959  1.033041\n",
      "19              33.9          28.180208  5.719792\n",
      "20              21.5          25.282220 -3.782220\n",
      "21              15.5          17.345282 -1.845282\n",
      "22              15.2          18.267301 -3.067301\n",
      "23              13.3          13.310776 -0.010776\n",
      "24              19.2          16.042947  3.157053\n",
      "25              27.3          28.458222 -1.158222\n",
      "26              26.0          26.407484 -0.407484\n",
      "27              30.4          25.541415  4.858585\n",
      "28              15.8          24.917067 -9.117067\n",
      "29              19.7          19.689587  0.010413\n",
      "30              15.0          12.035015  2.964985\n",
      "31              21.4          25.584669 -4.184669\n",
      "R-Squared:  0.6538538719944074\n",
      "Adjusted R-Squared:  0.4890223824679346\n"
     ]
    }
   ],
   "source": [
    "# 1B\n",
    "LOOCV(X_, y_, a, 'linear')"
   ]
  },
  {
   "cell_type": "markdown",
   "id": "bbfc48d3",
   "metadata": {},
   "source": [
    "##### We can see in this portion that the R-squared and adjusted R-squared values are worse than the previous model's and that the errors between observations are much higher than the previous model's as well."
   ]
  },
  {
   "cell_type": "markdown",
   "id": "ca36a842",
   "metadata": {},
   "source": [
    "### 1. (C) (Predict car mileage using MLR with k mean features and report R-squared values graphically)"
   ]
  },
  {
   "cell_type": "code",
   "execution_count": 44,
   "id": "47a57ad3",
   "metadata": {},
   "outputs": [
    {
     "data": {
      "image/png": "[encoded data removed]",
      "text/plain": [
       "<Figure size 432x288 with 1 Axes>"
      ]
     },
     "metadata": {
      "needs_background": "light"
     },
     "output_type": "display_data"
    }
   ],
   "source": [
    "# 1C\n",
    "k_feat_calc(X_, y_, a)"
   ]
  },
  {
   "cell_type": "markdown",
   "id": "e76594e9",
   "metadata": {},
   "source": [
    "##### We can see in this portion that the R-squared and adjusted R-squared increase with the addition of new features, but do not significantly change beyond the 5th feature's addition"
   ]
  },
  {
   "cell_type": "markdown",
   "id": "b7180967",
   "metadata": {},
   "source": [
    "### Function for Cancer Predictions in Question 2"
   ]
  },
  {
   "cell_type": "code",
   "execution_count": 45,
   "id": "606c59e1",
   "metadata": {},
   "outputs": [],
   "source": [
    "def pred_cancer(X, y, theta):\n",
    "    y_hat = []\n",
    "    threshold = 0.5\n",
    "    m = len(y)\n",
    "    for i in range(m):\n",
    "        p = -1 * (nump.dot(theta, nump.array(X[i])))\n",
    "        h_theta_x = (1 / (1 + math.exp(p)))\n",
    "        if h_theta_x <= threshold:  # if predictor is less than 0.5, we have class 0\n",
    "            y_hat.append(0)\n",
    "        else:\n",
    "            y_hat.append(1)\n",
    "    TP = 0\n",
    "    TN = 0\n",
    "    P = 0\n",
    "    N = 0\n",
    "    PP = 0\n",
    "\n",
    "    for i in range(m):\n",
    "        # count our classifications\n",
    "        if y_hat[i] == y[i]:    # correct if match\n",
    "            if y_hat[i] == 1:   # TP if eq 1, else TN\n",
    "                TP += 1\n",
    "            else:\n",
    "                TN += 1\n",
    "        if y[i] == 1:\n",
    "            P += 1\n",
    "        else:\n",
    "            N += 1\n",
    "        if y_hat[i] == 1:\n",
    "            PP += 1\n",
    "\n",
    "    confuse = pd.crosstab(y, y_hat, rownames=['Actual'], colnames=\n",
    "                          ['Predicted'], margins=True)\n",
    "    correct_class = (TP + TN) / m\n",
    "    precision = TP / PP\n",
    "    recall = TP / P\n",
    "    specificity = TN / N\n",
    "    f1 = 2 / (pow(precision, -1) + pow(recall, -1))\n",
    "\n",
    "    print(confuse)\n",
    "    print(\"Correct % of classifications:\\t\", correct_class)\n",
    "    print(\"Precision:\\t\", precision)\n",
    "    print(\"Recall:\\t\", recall)\n",
    "    print(\"Specificity:\\t\", specificity)\n",
    "    print(\"F1:\\t\", f1)\n",
    "    print(\"Odds Ratio:\\t\", math.exp(theta[1]))"
   ]
  },
  {
   "cell_type": "markdown",
   "id": "b9fc5899",
   "metadata": {},
   "source": [
    "### 2. (A) (Learning logistic regression hypothesis for lung cancer as a function of smoking)"
   ]
  },
  {
   "cell_type": "code",
   "execution_count": 46,
   "id": "bc246c4a",
   "metadata": {},
   "outputs": [
    {
     "name": "stdout",
     "output_type": "stream",
     "text": [
      "[-0.22245295  0.62752791]\n"
     ]
    }
   ],
   "source": [
    "\"\"\"2\"\"\"\n",
    "# 2A\n",
    "X1, y1 = file_import2('cancer.csv')\n",
    "Thetas2, runtime2, costs2, iterations2 = gradient_descent(X1, y1, a, 'cancer')\n",
    "print(Thetas2)"
   ]
  },
  {
   "cell_type": "markdown",
   "id": "aad22c3b",
   "metadata": {},
   "source": [
    "### 2. (B) (Classifying each individual as having lunger cancer or not, reporting the confusion matrix and other statistically significant results)"
   ]
  },
  {
   "cell_type": "code",
   "execution_count": 47,
   "id": "99476ec9",
   "metadata": {},
   "outputs": [
    {
     "name": "stdout",
     "output_type": "stream",
     "text": [
      "Predicted  0   1  All\n",
      "Actual               \n",
      "0          5   4    9\n",
      "1          4   6   10\n",
      "All        9  10   19\n",
      "Correct % of classifications:\t 0.5789473684210527\n",
      "Precision:\t 0.6\n",
      "Recall:\t 0.6\n",
      "Specificity:\t 0.5555555555555556\n",
      "F1:\t 0.6\n",
      "Odds Ratio:\t 1.8729746880712026\n"
     ]
    }
   ],
   "source": [
    "# 2B\n",
    "pred_cancer(X1, y1, Thetas2)"
   ]
  },
  {
   "cell_type": "markdown",
   "id": "84c53c3d",
   "metadata": {},
   "source": [
    "##### We can see that the model is not too accurate in correctly classifying cancer predictions, but it is at least near 60% accurate. "
   ]
  },
  {
   "cell_type": "markdown",
   "id": "22f14615",
   "metadata": {},
   "source": [
    "### 2. (C)\n",
    "\n",
    "##### Using the calculated Odds ratio, I think it can be determined that smokers are about 1.87 times as likely to develop cancer than non-smokers are."
   ]
  },
  {
   "cell_type": "markdown",
   "id": "fee16438",
   "metadata": {},
   "source": [
    "### Functions written to assist with Question 3's scaling and predictions"
   ]
  },
  {
   "cell_type": "code",
   "execution_count": 48,
   "id": "40ed6197",
   "metadata": {},
   "outputs": [],
   "source": [
    "def scaling(X):\n",
    "    X1 = pd.DataFrame(X)\n",
    "\n",
    "    X1 = X1.drop(0, axis='columns')\n",
    "    mean = X1.mean()    # save these for later\n",
    "    std = X1.std()\n",
    "    X1 = (X1 - X1.mean()) / X1.std()\n",
    "    X1.insert(0, 0, 1, True)\n",
    "    X1 = X1.values.tolist()\n",
    "\n",
    "    return X1, mean, std\n",
    "\n",
    "\n",
    "def scaling2(X, mean, std):\n",
    "    X = pd.DataFrame(X)\n",
    "    X = X.drop(0, axis='columns')\n",
    "    X = (X - mean) / std\n",
    "    X.insert(0, 0, 1, True)\n",
    "    X = X.values.tolist()\n",
    "    return X\n",
    "\n",
    "\n",
    "def pred_flower(X, y, theta):\n",
    "    y = y.tolist()\n",
    "    y = [j for sub in y for j in sub]\n",
    "    y_hat = []\n",
    "    m = len(y)\n",
    "\n",
    "    for i in range(m):\n",
    "        h_set = (1 / (1 + math.exp(-1 * (nump.dot(theta[0], X[i])))))\n",
    "        h_ver = (1 / (1 + math.exp(-1 * (nump.dot(theta[1], X[i])))))\n",
    "        h_vir = (1 / (1 + math.exp(-1 * (nump.dot(theta[2], X[i])))))\n",
    "        p = max(h_set, h_ver, h_vir)\n",
    "        if p == h_set:\n",
    "            y_hat.append('setosa')\n",
    "        elif p == h_ver:\n",
    "            y_hat.append('versicolor')\n",
    "        else:\n",
    "            y_hat.append('virginica')\n",
    "\n",
    "    T = 0\n",
    "    Set_T = 0\n",
    "    Ver_T = 0\n",
    "    Vir_T = 0\n",
    "\n",
    "    for i in range(m):\n",
    "        # count our classifications\n",
    "        if y_hat[i] == y[i]:  # correct if match\n",
    "            T += 1\n",
    "            if y_hat[i] == 'setosa':\n",
    "                Set_T += 1\n",
    "            if y_hat[i] == 'versicolor':\n",
    "                Ver_T += 1\n",
    "            if y_hat[i] == 'virginica':\n",
    "                Vir_T += 1\n",
    "\n",
    "    confuse = pd.crosstab(y, y_hat, rownames=['Actual'], colnames=['Predicted'], margins=True)\n",
    "    correct_class = T / m\n",
    "    Set_correct = Set_T / (m/3)\n",
    "    Ver_correct = Ver_T / (m/3)\n",
    "    Vir_correct = Vir_T / (m/3)\n",
    "\n",
    "    print(confuse)\n",
    "    print(\"Overall Correct % of Classifications:\\t\", correct_class)\n",
    "    print(\"Setosa Correct % of Classifications:\\t\", Set_correct)\n",
    "    print(\"Versicolor Correct % of Classifications:\\t\", Ver_correct)\n",
    "    print(\"Virginica Correct % of Classifications:\\t\", Vir_correct)"
   ]
  },
  {
   "cell_type": "markdown",
   "id": "2d9d9bae",
   "metadata": {},
   "source": [
    "### 3. (A) (Separate data in training and test data using an 80-20 split)"
   ]
  },
  {
   "cell_type": "code",
   "execution_count": 49,
   "id": "a42e0b84",
   "metadata": {},
   "outputs": [],
   "source": [
    "\"\"\"3\"\"\"\n",
    "# 3A - Divide into test and train data sets\n",
    "X2, y_f = file_import3('flowers.csv')\n",
    "y_1 = nump.transpose(nump.matrix([1 if val == 'setosa' else 0 for val in y_f]))\n",
    "y_2 = nump.transpose(nump.matrix([1 if val == 'versicolor' else 0 for val in y_f]))\n",
    "y_3 = nump.transpose(nump.matrix([1 if val == 'virginica' else 0 for val in y_f]))\n",
    "\n",
    "rows = [i for i in range(X2.shape[0])]\n",
    "trainRows = [i for i in range(0, 40)] + [i for i in range(50, 90)] + [i for i in range(100, 140)]\n",
    "testRows = sorted(list(set.difference(set(rows), set(trainRows))))\n",
    "\n",
    "XTrain = X2[trainRows, :]   # scale me\n",
    "yTrain = y_f[trainRows, :]\n",
    "\n",
    "y1Train = y_1[trainRows, :]\n",
    "y2Train = y_2[trainRows, :]\n",
    "y3Train = y_3[trainRows, :]\n",
    "\n",
    "XTest = X2[testRows, :]     # scale me with XTrain's mean and std\n",
    "yTest = y_f[testRows, :]\n",
    "\n",
    "y1Test = y_1[testRows, :]\n",
    "y2Test = y_2[testRows, :]\n",
    "y3Test = y_3[testRows, :]"
   ]
  },
  {
   "cell_type": "markdown",
   "id": "c0cef21e",
   "metadata": {},
   "source": [
    "### 3. (B) (Scale the training data and the test data using the mean and variance from the training set)"
   ]
  },
  {
   "cell_type": "code",
   "execution_count": 50,
   "id": "f2082d0d",
   "metadata": {},
   "outputs": [],
   "source": [
    "# 3B - Scaling\n",
    "XTrainScaled, X_mean, X_std = scaling(XTrain)\n",
    "XTestScaled = scaling2(XTest, X_mean, X_std)"
   ]
  },
  {
   "cell_type": "markdown",
   "id": "f0bd89c6",
   "metadata": {},
   "source": [
    "### 3. (C) (Train the three different models using the training set to determine probabilites of a flower being in a particular species)"
   ]
  },
  {
   "cell_type": "code",
   "execution_count": 16,
   "id": "b9e5e396",
   "metadata": {},
   "outputs": [
    {
     "name": "stdout",
     "output_type": "stream",
     "text": [
      "[-5.24334614 -1.75999339  3.9898382  -4.42729052 -4.45791134]\n",
      "[-0.94861559  0.27162912 -1.38605387  0.61796515 -0.89460269]\n",
      "[-18.70584143  -1.99562271  -2.78318499  15.79802893  12.91789495]\n"
     ]
    }
   ],
   "source": [
    "# 3C - Learn probabilities with 3 separate models for classification\n",
    "# model 1 (setosa)\n",
    "Thetas_s, runtime_s, costs_s, iterations_s = gradient_descent(XTrainScaled, y1Train, a, 'logistic')\n",
    "print(Thetas_s)\n",
    "\n",
    "# model 2 (versicolor)\n",
    "Thetas_versi, runtime_versi, costs_versi, iterations_versi = gradient_descent(XTrainScaled, y2Train, a, 'logistic')\n",
    "print(Thetas_versi)\n",
    "\n",
    "# model 3 (virginica)\n",
    "Thetas_virg, runtime_virg, costs_virg, iterations_virg = gradient_descent(XTrainScaled, y3Train, a, 'logistic')\n",
    "print(Thetas_virg)"
   ]
  },
  {
   "cell_type": "markdown",
   "id": "3807f34e",
   "metadata": {},
   "source": [
    "### 3. (D) (Classify each flower from the training data set using the learned proabilities)"
   ]
  },
  {
   "cell_type": "code",
   "execution_count": 17,
   "id": "327964a2",
   "metadata": {},
   "outputs": [
    {
     "name": "stdout",
     "output_type": "stream",
     "text": [
      "Predicted   setosa  versicolor  virginica  All\n",
      "Actual                                        \n",
      "setosa          40           0          0   40\n",
      "versicolor       0          38          2   40\n",
      "virginica        0           1         39   40\n",
      "All             40          39         41  120\n",
      "Overall Correct % of Classifications:\t 0.975\n",
      "Setosa Correct % of Classifications:\t 1.0\n",
      "Versicolor Correct % of Classifications:\t 0.95\n",
      "Virginica Correct % of Classifications:\t 0.975\n"
     ]
    }
   ],
   "source": [
    "# 3D - Predictions using training data\n",
    "pred_flower(XTrainScaled, yTrain, [Thetas_s, Thetas_versi, Thetas_virg])"
   ]
  },
  {
   "cell_type": "markdown",
   "id": "0b5a9ecf",
   "metadata": {},
   "source": [
    "##### We can observe the model does very well in correctly classifying all the training data flowers based upon their species using the given features. Each species is correctly identified with the exception of 3 samples in the entire set of 120."
   ]
  },
  {
   "cell_type": "markdown",
   "id": "00bf4d71",
   "metadata": {},
   "source": [
    "### 3. (E) (Classify each flower from the testing data set using the learned proabilities)"
   ]
  },
  {
   "cell_type": "code",
   "execution_count": 18,
   "id": "bac5c39f",
   "metadata": {},
   "outputs": [
    {
     "name": "stdout",
     "output_type": "stream",
     "text": [
      "Predicted   setosa  versicolor  virginica  All\n",
      "Actual                                        \n",
      "setosa          10           0          0   10\n",
      "versicolor       0          10          0   10\n",
      "virginica        0           0         10   10\n",
      "All             10          10         10   30\n",
      "Overall Correct % of Classifications:\t 1.0\n",
      "Setosa Correct % of Classifications:\t 1.0\n",
      "Versicolor Correct % of Classifications:\t 1.0\n",
      "Virginica Correct % of Classifications:\t 1.0\n"
     ]
    }
   ],
   "source": [
    "# 3E - Predictions using test data\n",
    "pred_flower(XTestScaled, yTest, [Thetas_s, Thetas_versi, Thetas_virg])"
   ]
  },
  {
   "cell_type": "markdown",
   "id": "b41d6c34",
   "metadata": {},
   "source": [
    "##### We can observe the model does perfectly in classifying all the test data flowers based upon their species using the given features. Each species is correctly identified from the entire test data set."
   ]
  },
  {
   "cell_type": "markdown",
   "id": "c9f1d9df",
   "metadata": {},
   "source": [
    "### Extra Credit Problem"
   ]
  },
  {
   "cell_type": "code",
   "execution_count": null,
   "id": "6c878e64",
   "metadata": {},
   "outputs": [],
   "source": [
    "XTrainScaled = pd.DataFrame(XTrainScaled)\n",
    "XTrainScaled = XTrainScaled.drop(1, axis='columns')\n",
    "XTrainScaled = XTrainScaled.values.tolist()\n",
    "\n",
    "# model 1 (setosa)\n",
    "Thetas_s1, runtime_s1, costs_s1, iterations_s1 = gradient_descent(XTrainScaled, y1Train, a, 'logistic')\n",
    "print(Thetas_s1)\n",
    "\n",
    "# model 2 (versicolor)\n",
    "Thetas_versi1, runtime_versi1, costs_versi1, iterations_versi1 = gradient_descent(XTrainScaled, y2Train, a, 'logistic')\n",
    "print(Thetas_versi1)\n",
    "\n",
    "# model 3 (virginica)\n",
    "Thetas_virg1, runtime_virg1, costs_virg1, iterations_virg1 = gradient_descent(XTrainScaled, y3Train, a, 'logistic')\n",
    "print(Thetas_virg1)\n"
   ]
  },
  {
   "cell_type": "code",
   "execution_count": null,
   "id": "0aad752b",
   "metadata": {},
   "outputs": [],
   "source": []
  }
 ],
 "metadata": {
  "kernelspec": {
   "display_name": "Python 3 (ipykernel)",
   "language": "python",
   "name": "python3"
  },
  "language_info": {
   "codemirror_mode": {
    "name": "ipython",
    "version": 3
   },
   "file_extension": ".py",
   "mimetype": "text/x-python",
   "name": "python",
   "nbconvert_exporter": "python",
   "pygments_lexer": "ipython3",
   "version": "3.9.12"
  }
 },
 "nbformat": 4,
 "nbformat_minor": 5
}
